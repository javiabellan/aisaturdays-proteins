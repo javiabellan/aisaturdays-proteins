{
 "cells": [
  {
   "cell_type": "markdown",
   "metadata": {},
   "source": [
    "# <center >TAPE\n",
    "\n",
    "- `transformer` (pretrained available)\n",
    "- `resnet`\n",
    "- `lstm`\n",
    "- `unirep` (pretrained available)\n",
    "- `onehot` (no pretraining required)\n",
    "- `trrosetta` (pretrained available)"
   ]
  },
  {
   "cell_type": "code",
   "execution_count": 1,
   "metadata": {
    "ExecuteTime": {
     "end_time": "2020-07-23T22:27:09.892333Z",
     "start_time": "2020-07-23T22:27:09.228795Z"
    }
   },
   "outputs": [],
   "source": [
    "import numpy as np\n",
    "import pandas as pd\n",
    "import altair      as alt\n",
    "\n",
    "import torch\n",
    "from tqdm import tqdm_notebook as tqdm\n",
    "from tape import TAPETokenizer, ProteinBertModel # ProteinLSTMModel"
   ]
  },
  {
   "cell_type": "code",
   "execution_count": 2,
   "metadata": {
    "ExecuteTime": {
     "end_time": "2020-07-23T22:27:11.720931Z",
     "start_time": "2020-07-23T22:27:11.657578Z"
    }
   },
   "outputs": [
    {
     "data": {
      "text/html": [
       "<div>\n",
       "<style scoped>\n",
       "    .dataframe tbody tr th:only-of-type {\n",
       "        vertical-align: middle;\n",
       "    }\n",
       "\n",
       "    .dataframe tbody tr th {\n",
       "        vertical-align: top;\n",
       "    }\n",
       "\n",
       "    .dataframe thead th {\n",
       "        text-align: right;\n",
       "    }\n",
       "</style>\n",
       "<table border=\"1\" class=\"dataframe\">\n",
       "  <thead>\n",
       "    <tr style=\"text-align: right;\">\n",
       "      <th></th>\n",
       "      <th>Tipo de Macro</th>\n",
       "      <th>Secuencia</th>\n",
       "      <th>uniprot</th>\n",
       "      <th>Unnamed: 4</th>\n",
       "      <th>domain</th>\n",
       "      <th>accession</th>\n",
       "      <th>hit_start</th>\n",
       "      <th>hit_end</th>\n",
       "      <th>domain.1</th>\n",
       "      <th>accession.1</th>\n",
       "      <th>...</th>\n",
       "      <th>Unnamed: 150</th>\n",
       "      <th>Unnamed: 151</th>\n",
       "      <th>Unnamed: 152</th>\n",
       "      <th>Unnamed: 153</th>\n",
       "      <th>Unnamed: 154</th>\n",
       "      <th>Unnamed: 155</th>\n",
       "      <th>Unnamed: 156</th>\n",
       "      <th>Unnamed: 157</th>\n",
       "      <th>Unnamed: 158</th>\n",
       "      <th>Unnamed: 159</th>\n",
       "    </tr>\n",
       "    <tr>\n",
       "      <th>Uniprot Code</th>\n",
       "      <th></th>\n",
       "      <th></th>\n",
       "      <th></th>\n",
       "      <th></th>\n",
       "      <th></th>\n",
       "      <th></th>\n",
       "      <th></th>\n",
       "      <th></th>\n",
       "      <th></th>\n",
       "      <th></th>\n",
       "      <th></th>\n",
       "      <th></th>\n",
       "      <th></th>\n",
       "      <th></th>\n",
       "      <th></th>\n",
       "      <th></th>\n",
       "      <th></th>\n",
       "      <th></th>\n",
       "      <th></th>\n",
       "      <th></th>\n",
       "      <th></th>\n",
       "    </tr>\n",
       "  </thead>\n",
       "  <tbody>\n",
       "    <tr>\n",
       "      <th>O28751</th>\n",
       "      <td>AF-1521-like</td>\n",
       "      <td>MEVLFEAKVGDITLKLAQGDITQYPAKAIVNAANKRLEHGGGVAYA...</td>\n",
       "      <td>O28751</td>\n",
       "      <td>NaN</td>\n",
       "      <td>MACRO</td>\n",
       "      <td>PS51154</td>\n",
       "      <td>1</td>\n",
       "      <td>192</td>\n",
       "      <td>NaN</td>\n",
       "      <td>NaN</td>\n",
       "      <td>...</td>\n",
       "      <td>NaN</td>\n",
       "      <td>NaN</td>\n",
       "      <td>NaN</td>\n",
       "      <td>NaN</td>\n",
       "      <td>NaN</td>\n",
       "      <td>NaN</td>\n",
       "      <td>NaN</td>\n",
       "      <td>NaN</td>\n",
       "      <td>NaN</td>\n",
       "      <td>NaN</td>\n",
       "    </tr>\n",
       "    <tr>\n",
       "      <th>D3RWS7</th>\n",
       "      <td>AF-1521-like</td>\n",
       "      <td>MEVEVVRELEMDKLKVKLAGGDITKYPAEAIVNAANKYLEHGGGVA...</td>\n",
       "      <td>D3RWS7</td>\n",
       "      <td>NaN</td>\n",
       "      <td>MACRO</td>\n",
       "      <td>PS51154</td>\n",
       "      <td>3</td>\n",
       "      <td>193</td>\n",
       "      <td>NaN</td>\n",
       "      <td>NaN</td>\n",
       "      <td>...</td>\n",
       "      <td>NaN</td>\n",
       "      <td>NaN</td>\n",
       "      <td>NaN</td>\n",
       "      <td>NaN</td>\n",
       "      <td>NaN</td>\n",
       "      <td>NaN</td>\n",
       "      <td>NaN</td>\n",
       "      <td>NaN</td>\n",
       "      <td>NaN</td>\n",
       "      <td>NaN</td>\n",
       "    </tr>\n",
       "    <tr>\n",
       "      <th>D2RH24</th>\n",
       "      <td>AF-1521-like</td>\n",
       "      <td>MVVKKFGSVEVVLEKGDITKYPAEAIVNAANKYLEHGGGVALAIAK...</td>\n",
       "      <td>D2RH24</td>\n",
       "      <td>NaN</td>\n",
       "      <td>MACRO</td>\n",
       "      <td>PS51154</td>\n",
       "      <td>1</td>\n",
       "      <td>191</td>\n",
       "      <td>NaN</td>\n",
       "      <td>NaN</td>\n",
       "      <td>...</td>\n",
       "      <td>NaN</td>\n",
       "      <td>NaN</td>\n",
       "      <td>NaN</td>\n",
       "      <td>NaN</td>\n",
       "      <td>NaN</td>\n",
       "      <td>NaN</td>\n",
       "      <td>NaN</td>\n",
       "      <td>NaN</td>\n",
       "      <td>NaN</td>\n",
       "      <td>NaN</td>\n",
       "    </tr>\n",
       "    <tr>\n",
       "      <th>A0A0F7ICE9</th>\n",
       "      <td>AF-1521-like</td>\n",
       "      <td>MKPEVVLRFSGVEVRLVQGDITKYPAEAIVNAANRHLEHGGGVAYA...</td>\n",
       "      <td>A0A0F7ICE9</td>\n",
       "      <td>NaN</td>\n",
       "      <td>MACRO</td>\n",
       "      <td>PS51154</td>\n",
       "      <td>1</td>\n",
       "      <td>194</td>\n",
       "      <td>NaN</td>\n",
       "      <td>NaN</td>\n",
       "      <td>...</td>\n",
       "      <td>NaN</td>\n",
       "      <td>NaN</td>\n",
       "      <td>NaN</td>\n",
       "      <td>NaN</td>\n",
       "      <td>NaN</td>\n",
       "      <td>NaN</td>\n",
       "      <td>NaN</td>\n",
       "      <td>NaN</td>\n",
       "      <td>NaN</td>\n",
       "      <td>NaN</td>\n",
       "    </tr>\n",
       "    <tr>\n",
       "      <th>A0A075LQ95</th>\n",
       "      <td>AF-1521-like</td>\n",
       "      <td>MNLTELTFGNLTFKLAQGDITKLPAEAIVNAANKYLEHGGGVALAI...</td>\n",
       "      <td>A0A075LQ95</td>\n",
       "      <td>NaN</td>\n",
       "      <td>MACRO</td>\n",
       "      <td>PS51154</td>\n",
       "      <td>1</td>\n",
       "      <td>190</td>\n",
       "      <td>NaN</td>\n",
       "      <td>NaN</td>\n",
       "      <td>...</td>\n",
       "      <td>NaN</td>\n",
       "      <td>NaN</td>\n",
       "      <td>NaN</td>\n",
       "      <td>NaN</td>\n",
       "      <td>NaN</td>\n",
       "      <td>NaN</td>\n",
       "      <td>NaN</td>\n",
       "      <td>NaN</td>\n",
       "      <td>NaN</td>\n",
       "      <td>NaN</td>\n",
       "    </tr>\n",
       "  </tbody>\n",
       "</table>\n",
       "<p>5 rows × 159 columns</p>\n",
       "</div>"
      ],
      "text/plain": [
       "             Tipo de Macro                                          Secuencia  \\\n",
       "Uniprot Code                                                                    \n",
       "O28751        AF-1521-like  MEVLFEAKVGDITLKLAQGDITQYPAKAIVNAANKRLEHGGGVAYA...   \n",
       "D3RWS7        AF-1521-like  MEVEVVRELEMDKLKVKLAGGDITKYPAEAIVNAANKYLEHGGGVA...   \n",
       "D2RH24        AF-1521-like  MVVKKFGSVEVVLEKGDITKYPAEAIVNAANKYLEHGGGVALAIAK...   \n",
       "A0A0F7ICE9    AF-1521-like  MKPEVVLRFSGVEVRLVQGDITKYPAEAIVNAANRHLEHGGGVAYA...   \n",
       "A0A075LQ95    AF-1521-like  MNLTELTFGNLTFKLAQGDITKLPAEAIVNAANKYLEHGGGVALAI...   \n",
       "\n",
       "                 uniprot  Unnamed: 4 domain accession  hit_start  hit_end  \\\n",
       "Uniprot Code                                                                \n",
       "O28751            O28751         NaN  MACRO   PS51154          1      192   \n",
       "D3RWS7            D3RWS7         NaN  MACRO   PS51154          3      193   \n",
       "D2RH24            D2RH24         NaN  MACRO   PS51154          1      191   \n",
       "A0A0F7ICE9    A0A0F7ICE9         NaN  MACRO   PS51154          1      194   \n",
       "A0A075LQ95    A0A075LQ95         NaN  MACRO   PS51154          1      190   \n",
       "\n",
       "             domain.1 accession.1  ... Unnamed: 150  Unnamed: 151  \\\n",
       "Uniprot Code                       ...                              \n",
       "O28751            NaN         NaN  ...          NaN           NaN   \n",
       "D3RWS7            NaN         NaN  ...          NaN           NaN   \n",
       "D2RH24            NaN         NaN  ...          NaN           NaN   \n",
       "A0A0F7ICE9        NaN         NaN  ...          NaN           NaN   \n",
       "A0A075LQ95        NaN         NaN  ...          NaN           NaN   \n",
       "\n",
       "             Unnamed: 152 Unnamed: 153 Unnamed: 154 Unnamed: 155 Unnamed: 156  \\\n",
       "Uniprot Code                                                                    \n",
       "O28751                NaN          NaN          NaN          NaN          NaN   \n",
       "D3RWS7                NaN          NaN          NaN          NaN          NaN   \n",
       "D2RH24                NaN          NaN          NaN          NaN          NaN   \n",
       "A0A0F7ICE9            NaN          NaN          NaN          NaN          NaN   \n",
       "A0A075LQ95            NaN          NaN          NaN          NaN          NaN   \n",
       "\n",
       "             Unnamed: 157  Unnamed: 158 Unnamed: 159  \n",
       "Uniprot Code                                          \n",
       "O28751                NaN           NaN          NaN  \n",
       "D3RWS7                NaN           NaN          NaN  \n",
       "D2RH24                NaN           NaN          NaN  \n",
       "A0A0F7ICE9            NaN           NaN          NaN  \n",
       "A0A075LQ95            NaN           NaN          NaN  \n",
       "\n",
       "[5 rows x 159 columns]"
      ]
     },
     "execution_count": 2,
     "metadata": {},
     "output_type": "execute_result"
    }
   ],
   "source": [
    "#df = pandas.read_csv(\"../data/macros.csv\", index_col=\"Uniprot Code\")\n",
    "df = pd.read_excel(\"../data/macros&covid_with_domains.xlsx\", index_col=\"Uniprot Code\")\n",
    "df.head()"
   ]
  },
  {
   "cell_type": "markdown",
   "metadata": {},
   "source": [
    "# BERT"
   ]
  },
  {
   "cell_type": "code",
   "execution_count": 3,
   "metadata": {
    "ExecuteTime": {
     "end_time": "2020-07-23T22:27:15.582614Z",
     "start_time": "2020-07-23T22:27:14.504728Z"
    }
   },
   "outputs": [
    {
     "data": {
      "text/plain": [
       "tensor([[ 2, 11,  7, 23, 25,  9,  8, 21,  7, 15, 13, 11, 16, 11,  5, 13, 15, 15,\n",
       "         17, 11,  7, 25, 13, 11, 22, 11, 22, 15, 25,  5,  5, 11,  5, 15, 13, 23,\n",
       "         20,  3]], device='cuda:0')"
      ]
     },
     "execution_count": 3,
     "metadata": {},
     "output_type": "execute_result"
    }
   ],
   "source": [
    "# Pfam Family: Hexapep, Clan: CL0536\n",
    "sequence  = 'GCTVEDRCLIGMGAILLNGCVIGSGSLVAAGALITQ'\n",
    "tokenizer = TAPETokenizer(vocab='iupac')  # iupac is the vocab for TAPE models, use unirep for the UniRep model\n",
    "token_ids = torch.tensor([tokenizer.encode(sequence)]).cuda()\n",
    "token_ids"
   ]
  },
  {
   "cell_type": "code",
   "execution_count": 4,
   "metadata": {
    "ExecuteTime": {
     "end_time": "2020-07-23T22:27:18.812253Z",
     "start_time": "2020-07-23T22:27:16.611616Z"
    }
   },
   "outputs": [
    {
     "data": {
      "text/plain": [
       "(torch.Size([1, 38, 768]), torch.Size([1, 768]))"
      ]
     },
     "execution_count": 4,
     "metadata": {},
     "output_type": "execute_result"
    }
   ],
   "source": [
    "bert = ProteinBertModel.from_pretrained('bert-base').cuda().eval()\n",
    "\n",
    "# NOTE: pooled_output is *not* trained for the transformer, do not use\n",
    "# w/o fine-tuning. A better option for now is to simply take a mean of\n",
    "# the sequence output\n",
    "output = bert(token_ids)\n",
    "sequence_output = output[0]\n",
    "pooled_output = output[1]\n",
    "\n",
    "sequence_output.shape, pooled_output.shape"
   ]
  },
  {
   "cell_type": "markdown",
   "metadata": {},
   "source": [
    "# Inferirir Macros"
   ]
  },
  {
   "cell_type": "code",
   "execution_count": 5,
   "metadata": {
    "ExecuteTime": {
     "end_time": "2020-07-23T22:27:21.707029Z",
     "start_time": "2020-07-23T22:27:21.627713Z"
    },
    "scrolled": true
   },
   "outputs": [],
   "source": [
    "seqs        = df[\"Secuencia\"].values\n",
    "seqs_tokens =  [torch.tensor([tokenizer.encode(seq)]).cuda() for seq in seqs]"
   ]
  },
  {
   "cell_type": "code",
   "execution_count": 8,
   "metadata": {
    "ExecuteTime": {
     "end_time": "2020-07-23T22:28:20.366763Z",
     "start_time": "2020-07-23T22:27:45.645330Z"
    }
   },
   "outputs": [
    {
     "name": "stderr",
     "output_type": "stream",
     "text": [
      "<ipython-input-8-48d4cd07571d>:3: TqdmDeprecationWarning: This function will be removed in tqdm==5.0.0\n",
      "Please use `tqdm.notebook.tqdm` instead of `tqdm.tqdm_notebook`\n",
      "  for seq_tokens in tqdm(seqs_tokens):\n"
     ]
    },
    {
     "data": {
      "application/vnd.jupyter.widget-view+json": {
       "model_id": "3bdc30dcf5a340109c765a44b181ad90",
       "version_major": 2,
       "version_minor": 0
      },
      "text/plain": [
       "HBox(children=(FloatProgress(value=0.0, max=176.0), HTML(value='')))"
      ]
     },
     "metadata": {},
     "output_type": "display_data"
    },
    {
     "name": "stdout",
     "output_type": "stream",
     "text": [
      "(768,)\n",
      "(768,)\n",
      "(768,)\n",
      "(768,)\n",
      "(768,)\n",
      "(768,)\n",
      "(768,)\n",
      "(768,)\n",
      "(768,)\n",
      "(768,)\n",
      "(768,)\n",
      "(768,)\n",
      "(768,)\n",
      "(768,)\n",
      "(768,)\n",
      "(768,)\n",
      "(768,)\n",
      "(768,)\n",
      "(768,)\n",
      "(768,)\n",
      "(768,)\n",
      "(768,)\n",
      "(768,)\n",
      "(768,)\n",
      "(768,)\n",
      "(768,)\n",
      "(768,)\n",
      "(768,)\n",
      "(768,)\n",
      "(768,)\n",
      "(768,)\n",
      "(768,)\n",
      "(768,)\n",
      "(768,)\n",
      "(768,)\n",
      "(768,)\n",
      "(768,)\n",
      "(768,)\n",
      "(768,)\n",
      "(768,)\n",
      "(768,)\n",
      "(768,)\n",
      "(768,)\n",
      "(768,)\n",
      "(768,)\n",
      "(768,)\n",
      "(768,)\n",
      "(768,)\n",
      "(768,)\n",
      "(768,)\n",
      "(768,)\n",
      "(768,)\n",
      "(768,)\n",
      "(768,)\n",
      "(768,)\n",
      "(768,)\n",
      "(768,)\n",
      "(768,)\n",
      "(768,)\n",
      "(768,)\n",
      "(768,)\n",
      "(768,)\n",
      "(768,)\n",
      "(768,)\n",
      "(768,)\n",
      "(768,)\n",
      "(768,)\n",
      "(768,)\n",
      "(768,)\n",
      "(768,)\n",
      "(768,)\n",
      "(768,)\n",
      "(768,)\n",
      "(768,)\n",
      "(768,)\n",
      "(768,)\n",
      "(768,)\n",
      "(768,)\n",
      "(768,)\n",
      "(768,)\n",
      "(768,)\n",
      "(768,)\n",
      "(768,)\n",
      "(768,)\n",
      "(768,)\n",
      "(768,)\n",
      "(768,)\n",
      "(768,)\n",
      "(768,)\n",
      "(768,)\n",
      "(768,)\n",
      "(768,)\n",
      "(768,)\n",
      "(768,)\n",
      "(768,)\n",
      "(768,)\n",
      "(768,)\n",
      "(768,)\n",
      "(768,)\n",
      "(768,)\n",
      "(768,)\n",
      "(768,)\n",
      "(768,)\n",
      "(768,)\n",
      "(768,)\n",
      "(768,)\n",
      "(768,)\n",
      "(768,)\n",
      "(768,)\n",
      "(768,)\n",
      "(768,)\n",
      "(768,)\n",
      "(768,)\n",
      "(768,)\n",
      "(768,)\n",
      "(768,)\n",
      "(768,)\n",
      "(768,)\n",
      "(768,)\n",
      "(768,)\n",
      "(768,)\n",
      "(768,)\n",
      "(768,)\n",
      "(768,)\n",
      "(768,)\n",
      "(768,)\n",
      "(768,)\n",
      "(768,)\n",
      "(768,)\n",
      "(768,)\n",
      "(768,)\n",
      "(768,)\n",
      "(768,)\n",
      "(768,)\n",
      "(768,)\n",
      "(768,)\n",
      "(768,)\n",
      "(768,)\n",
      "(768,)\n",
      "(768,)\n",
      "(768,)\n",
      "(768,)\n",
      "(768,)\n",
      "(768,)\n",
      "(768,)\n",
      "(768,)\n",
      "(768,)\n",
      "(768,)\n",
      "(768,)\n",
      "(768,)\n",
      "(768,)\n",
      "(768,)\n",
      "(768,)\n",
      "(768,)\n",
      "(768,)\n",
      "(768,)\n",
      "(768,)\n",
      "(768,)\n",
      "(768,)\n",
      "(768,)\n",
      "(768,)\n",
      "(768,)\n",
      "(768,)\n",
      "(768,)\n",
      "(768,)\n",
      "(768,)\n",
      "(768,)\n",
      "(768,)\n",
      "(768,)\n",
      "(768,)\n",
      "(768,)\n",
      "(768,)\n",
      "(768,)\n",
      "(768,)\n",
      "(768,)\n",
      "(768,)\n",
      "\n"
     ]
    }
   ],
   "source": [
    "outputs = []\n",
    "\n",
    "for seq_tokens in tqdm(seqs_tokens):\n",
    "    with torch.no_grad():\n",
    "        output = bert(seq_tokens)[1][0].cpu().numpy()\n",
    "    \n",
    "    print(output.shape)\n",
    "    outputs.append(output)"
   ]
  },
  {
   "cell_type": "code",
   "execution_count": 9,
   "metadata": {
    "ExecuteTime": {
     "end_time": "2020-07-23T22:28:23.578046Z",
     "start_time": "2020-07-23T22:28:23.575345Z"
    }
   },
   "outputs": [
    {
     "data": {
      "text/plain": [
       "(176, 768)"
      ]
     },
     "execution_count": 9,
     "metadata": {},
     "output_type": "execute_result"
    }
   ],
   "source": [
    "outputs_np = np.array(outputs)\n",
    "outputs_np.shape"
   ]
  },
  {
   "cell_type": "code",
   "execution_count": 10,
   "metadata": {
    "ExecuteTime": {
     "end_time": "2020-07-23T22:28:34.655666Z",
     "start_time": "2020-07-23T22:28:34.653162Z"
    }
   },
   "outputs": [],
   "source": [
    "np.save(\"macros_bert.npy\", outputs_np)"
   ]
  }
 ],
 "metadata": {
  "kernelspec": {
   "display_name": "Python 3",
   "language": "python",
   "name": "python3"
  },
  "language_info": {
   "codemirror_mode": {
    "name": "ipython",
    "version": 3
   },
   "file_extension": ".py",
   "mimetype": "text/x-python",
   "name": "python",
   "nbconvert_exporter": "python",
   "pygments_lexer": "ipython3",
   "version": "3.8.3"
  }
 },
 "nbformat": 4,
 "nbformat_minor": 2
}
